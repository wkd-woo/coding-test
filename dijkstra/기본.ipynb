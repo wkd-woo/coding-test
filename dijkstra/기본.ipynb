{
 "cells": [
  {
   "cell_type": "markdown",
   "metadata": {},
   "source": [
    "## 다익스트라 알고리즘\n",
    "\n",
    "---\n",
    "\n",
    "탐색할 그래프의 시작 노드와 다른 노드들간의 최단 거리 구하기\n",
    "\n",
    "### 시간복잡도 \n",
    "---\n",
    "𝑂(𝐸𝑙𝑜𝑔𝐸)"
   ]
  },
  {
   "cell_type": "code",
   "execution_count": 1,
   "metadata": {},
   "outputs": [],
   "source": [
    "import heapq\n",
    "\n",
    "\n",
    "def dijkstra(graph, start): # 그래프 정보와 출발노드를 받아야 함\n",
    "    \n",
    "    distances = {node: int(1e9) for node in graph} # 거리 정보 설정\n",
    "    distances[start] = 0 # 출발점 거리는 0\n",
    "    queue = [] \n",
    "    heapq.heappush(queue, [distances[start], start]) # 우선순위 queue를 초기화 함. 출발점 거리(0)와 출발 노드\n",
    "    \n",
    "    while queue: # queue에 노드가 있으면\n",
    "        curr_distance, curr_node = heapq.heappop(queue) # 우선순위가 가장 높은 것(거리가 가장 짧은 노드) 을 pop()\n",
    "        \n",
    "        if distances[curr_node] < curr_distance: # 저장된 거리 정보가 지금 거리보다 짧다면\n",
    "            continue # skip\n",
    "        \n",
    "        for adjacent, weight in graph[curr_node].items(): # queue에서 뽑은 node 연결 정보 확인\n",
    "            distance = curr_distance + weight # 뽑은 node 까지 온 거리와 연결된 node의 거리를 더해 계산함\n",
    "            \n",
    "            if distance < distances[adjacent]: # 계산한 거리가 저장된 거리 정보보다 짧다면\n",
    "                distances[adjacent] = distance # 거리 정보 갱신하고\n",
    "                heapq.heappush(queue, [distance, adjacent]) # 우선순위 큐에 넣음\n",
    "                \n",
    "                \n",
    "    return distances # 거리 정보를 반환"
   ]
  },
  {
   "cell_type": "markdown",
   "metadata": {},
   "source": [
    "## 최단 경로 출력\n",
    "---\n",
    "- 탐색할 그래프의 시작 노드와 다른 노드들간의 거리 및 최단 경로 출력하기"
   ]
  },
  {
   "cell_type": "code",
   "execution_count": 2,
   "metadata": {},
   "outputs": [],
   "source": [
    "# 탐색할 그래프와 시작 정점을 인수로 전달받습니다.\n",
    "def dijkstra(graph, start, end):\n",
    "    # 시작 정점에서 각 정점까지의 거리를 저장할 딕셔너리를 생성하고, 무한대(inf)로 초기화합니다.\n",
    "    distances = {vertex: [float('inf'), start] for vertex in graph}\n",
    "\n",
    "    # 그래프의 시작 정점의 거리는 0으로 초기화 해줌\n",
    "    distances[start] = [0, start]\n",
    "\n",
    "    # 모든 정점이 저장될 큐를 생성합니다.\n",
    "    queue = []\n",
    "\n",
    "    # 그래프의 시작 정점과 시작 정점의 거리(0)을 최소힙에 넣어줌\n",
    "    heapq.heappush(queue, [distances[start][0], start])\n",
    "\n",
    "    while queue:\n",
    "        \n",
    "        # 큐에서 정점을 하나씩 꺼내 인접한 정점들의 가중치를 모두 확인하여 업데이트합니다.\n",
    "        current_distance, current_vertex = heapq.heappop(queue)\n",
    "        \n",
    "        # 더 짧은 경로가 있다면 무시한다.\n",
    "        if distances[current_vertex][0] < current_distance:\n",
    "            continue\n",
    "            \n",
    "        for adjacent, weight in graph[current_vertex].items():\n",
    "            distance = current_distance + weight\n",
    "            # 만약 시작 정점에서 인접 정점으로 바로 가는 것보다 현재 정점을 통해 가는 것이 더 가까울 경우에는\n",
    "            if distance < distances[adjacent][0]:\n",
    "                # 거리를 업데이트합니다.\n",
    "                distances[adjacent] = [distance, current_vertex]\n",
    "                heapq.heappush(queue, [distance, adjacent])\n",
    "    \n",
    "    path = end\n",
    "    path_output = end + '->'\n",
    "    while distances[path][1] != start:\n",
    "        path_output += distances[path][1] + '->'\n",
    "        path = distances[path][1]\n",
    "    path_output += start\n",
    "    print (path_output)\n",
    "    return distances"
   ]
  },
  {
   "cell_type": "code",
   "execution_count": null,
   "metadata": {},
   "outputs": [],
   "source": []
  }
 ],
 "metadata": {
  "kernelspec": {
   "display_name": "Python 3.8.6 64-bit",
   "language": "python",
   "name": "python3"
  },
  "language_info": {
   "codemirror_mode": {
    "name": "ipython",
    "version": 3
   },
   "file_extension": ".py",
   "mimetype": "text/x-python",
   "name": "python",
   "nbconvert_exporter": "python",
   "pygments_lexer": "ipython3",
   "version": "3.8.6"
  },
  "orig_nbformat": 4,
  "vscode": {
   "interpreter": {
    "hash": "7e84abd7a1fed67f39f83f7a680fc8372fe0725056b884b5f29bf687f5aaa65d"
   }
  }
 },
 "nbformat": 4,
 "nbformat_minor": 2
}
