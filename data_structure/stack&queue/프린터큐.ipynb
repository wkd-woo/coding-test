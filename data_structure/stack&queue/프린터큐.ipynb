{
 "cells": [
  {
   "cell_type": "code",
   "execution_count": null,
   "metadata": {},
   "outputs": [],
   "source": [
    "from collections import deque\n",
    "\n",
    "t = int(input())\n",
    "for i in range(1, t + 1):\n",
    "    n, m = map(int, input().split())\n",
    "    l = deque(map(int, input().split()))\n",
    "\n",
    "    for j in range(n):\n",
    "        l[j] = [l[j], False]\n",
    "\n",
    "    cnt = 0\n",
    "    l[m][1] = True\n",
    "    while l:\n",
    "        if l[0][0] == max(t[0] for t in l):  # 현재 중요도가 가장 높다면\n",
    "            temp = l.popleft()  # 큐에서 뽑아 낸다.\n",
    "            cnt += 1\n",
    "            if temp[1] == True:\n",
    "                print(cnt)\n",
    "                break\n",
    "        else:  # 중요도가 가장 높지 않으면 맨 뒤로 돌림.\n",
    "            l.append(l.popleft())"
   ]
  },
  {
   "cell_type": "markdown",
   "metadata": {},
   "source": [
    "t = int(input())\n",
    "\n",
    "for _ in range(t):\n",
    "  n, m = list(map(int, input().split()))\n",
    "  que = list(map(int, input().split()))\n",
    "  que = deque((i, idx) for idx, i in enumerate(que))\n",
    "  \n",
    "  cnt = 0\n",
    "  while True:\n",
    "    if que[0][0] == max(que, key=lambda x: x[0])[0]:\n",
    "      cnt += 1\n",
    "      if que[0][1] == m:\n",
    "        print(cnt)\n",
    "        break\n",
    "      else:\n",
    "        que.popleft()\n",
    "    else:\n",
    "      que.append(que.popleft())"
   ]
  }
 ],
 "metadata": {
  "kernelspec": {
   "display_name": "Python 3.8.6 64-bit",
   "language": "python",
   "name": "python3"
  },
  "language_info": {
   "name": "python",
   "version": "3.8.6"
  },
  "orig_nbformat": 4,
  "vscode": {
   "interpreter": {
    "hash": "7e84abd7a1fed67f39f83f7a680fc8372fe0725056b884b5f29bf687f5aaa65d"
   }
  }
 },
 "nbformat": 4,
 "nbformat_minor": 2
}
