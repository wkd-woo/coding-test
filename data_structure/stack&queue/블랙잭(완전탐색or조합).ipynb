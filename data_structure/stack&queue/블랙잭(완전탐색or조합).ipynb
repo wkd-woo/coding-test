{
 "cells": [
  {
   "cell_type": "code",
   "execution_count": null,
   "metadata": {},
   "outputs": [],
   "source": [
    "from itertools import combinations\n",
    "\n",
    "# 조합 방법 nCr\n",
    "n, m = map(int, input().split())\n",
    "l = sorted(map(int, input().split()))\n",
    "\n",
    "mx = 0\n",
    "for each in combinations(l, 3):\n",
    "  if sum(each) <= m:\n",
    "    mx = max(mx, sum(each))\n",
    "    \n",
    "print(mx)"
   ]
  },
  {
   "cell_type": "code",
   "execution_count": null,
   "metadata": {},
   "outputs": [],
   "source": [
    "# 완전탐색 방법\n",
    "n, m = list(map(int, input().split()))\n",
    "data = list(map(int, input().split()))\n",
    "\n",
    "result = 0\n",
    "length = len(data)\n",
    "\n",
    "for i in range(0, length):\n",
    "  for j in range(i+1, length):\n",
    "    for k in range(j+1, length):\n",
    "      sum_value = data[i] + data[j] + data[k]\n",
    "      if sum_value <= m:\n",
    "        result = max(result, sum_value)\n",
    "        \n",
    "print(result)"
   ]
  }
 ],
 "metadata": {
  "kernelspec": {
   "display_name": "Python 3.8.6 64-bit",
   "language": "python",
   "name": "python3"
  },
  "language_info": {
   "name": "python",
   "version": "3.8.6"
  },
  "orig_nbformat": 4,
  "vscode": {
   "interpreter": {
    "hash": "7e84abd7a1fed67f39f83f7a680fc8372fe0725056b884b5f29bf687f5aaa65d"
   }
  }
 },
 "nbformat": 4,
 "nbformat_minor": 2
}
