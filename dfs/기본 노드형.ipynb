{
 "cells": [
  {
   "cell_type": "markdown",
   "metadata": {},
   "source": [
    "### 시간복잡도\n",
    "\n",
    "---\n",
    "\n",
    "- 일반적인 DFS 시간 복잡도\n",
    "    - 노드 수: V\n",
    "    - 간선 수: E\n",
    "        - 위 코드에서 while stack 은 V+E번 만큼 수행함\n",
    "    - 시간 복잡도: O(V+E)"
   ]
  },
  {
   "cell_type": "code",
   "execution_count": null,
   "metadata": {},
   "outputs": [],
   "source": [
    "def dfs(graph, start_node):\n",
    "    visited, stack = list(), list()\n",
    "\n",
    "    stack.append(start_node)\n",
    "    while stack:\n",
    "        count += 1\n",
    "        node = stack.pop()\n",
    "        if node not in visited:\n",
    "            visited.append(node)\n",
    "            stack.extend(graph[node])\n",
    "\n",
    "    print(count)\n",
    "    return visited\n"
   ]
  }
 ],
 "metadata": {
  "language_info": {
   "name": "python"
  },
  "orig_nbformat": 4
 },
 "nbformat": 4,
 "nbformat_minor": 2
}
