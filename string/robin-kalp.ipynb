{
 "cells": [
  {
   "cell_type": "code",
   "execution_count": 1,
   "metadata": {},
   "outputs": [
    {
     "ename": "KeyboardInterrupt",
     "evalue": "",
     "output_type": "error",
     "traceback": [
      "\u001b[1;31m---------------------------------------------------------------------------\u001b[0m",
      "\u001b[1;31mKeyboardInterrupt\u001b[0m                         Traceback (most recent call last)",
      "\u001b[1;32mc:\\workspace\\convention\\string\\robin-kalp.ipynb 셀 1\u001b[0m in \u001b[0;36m<module>\u001b[1;34m\u001b[0m\n\u001b[0;32m      <a href='vscode-notebook-cell:/c%3A/workspace/convention/string/robin-kalp.ipynb#ch0000000?line=8'>9</a>\u001b[0m     \u001b[39mif\u001b[39;00m word \u001b[39m==\u001b[39m s:\n\u001b[0;32m     <a href='vscode-notebook-cell:/c%3A/workspace/convention/string/robin-kalp.ipynb#ch0000000?line=9'>10</a>\u001b[0m         di[word] \u001b[39m+\u001b[39m\u001b[39m=\u001b[39m \u001b[39m1\u001b[39m\n\u001b[1;32m---> <a href='vscode-notebook-cell:/c%3A/workspace/convention/string/robin-kalp.ipynb#ch0000000?line=10'>11</a>\u001b[0m     i \u001b[39m+\u001b[39m\u001b[39m=\u001b[39m \u001b[39mlen\u001b[39m(word)\n\u001b[0;32m     <a href='vscode-notebook-cell:/c%3A/workspace/convention/string/robin-kalp.ipynb#ch0000000?line=11'>12</a>\u001b[0m \u001b[39melse\u001b[39;00m:\n\u001b[0;32m     <a href='vscode-notebook-cell:/c%3A/workspace/convention/string/robin-kalp.ipynb#ch0000000?line=12'>13</a>\u001b[0m     i \u001b[39m+\u001b[39m\u001b[39m=\u001b[39m \u001b[39m1\u001b[39m\n",
      "\u001b[1;31mKeyboardInterrupt\u001b[0m: "
     ]
    }
   ],
   "source": [
    "l = input()\n",
    "word = input()\n",
    "di = dict()\n",
    "di[word] = 0\n",
    "i = 0\n",
    "while len(word) <= len(l) - i:\n",
    "    s = ''.join(l[i:i + len(word)])\n",
    "    if s in di:\n",
    "        if word == s:\n",
    "            di[word] += 1\n",
    "        i += len(word)\n",
    "    else:\n",
    "        i += 1\n",
    "\n",
    "print(di[word])"
   ]
  },
  {
   "cell_type": "code",
   "execution_count": null,
   "metadata": {},
   "outputs": [],
   "source": []
  }
 ],
 "metadata": {
  "kernelspec": {
   "display_name": "Python 3.8.6 64-bit",
   "language": "python",
   "name": "python3"
  },
  "language_info": {
   "codemirror_mode": {
    "name": "ipython",
    "version": 3
   },
   "file_extension": ".py",
   "mimetype": "text/x-python",
   "name": "python",
   "nbconvert_exporter": "python",
   "pygments_lexer": "ipython3",
   "version": "3.8.6"
  },
  "orig_nbformat": 4,
  "vscode": {
   "interpreter": {
    "hash": "7e84abd7a1fed67f39f83f7a680fc8372fe0725056b884b5f29bf687f5aaa65d"
   }
  }
 },
 "nbformat": 4,
 "nbformat_minor": 2
}
