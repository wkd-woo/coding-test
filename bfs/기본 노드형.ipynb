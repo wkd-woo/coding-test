{
 "cells": [
  {
   "cell_type": "markdown",
   "metadata": {},
   "source": [
    "## 시간복잡도\n",
    "\n",
    "---\n",
    "\n",
    "- 일반적인 BFS 시간 복잡도\n",
    "    - 노드 수: V\n",
    "    - 간선 수: E\n",
    "        - 위 코드에서 while need_visit은 V+E 번 만큼 수행함\n",
    "    - 시간 복잡도: O(V+E)"
   ]
  },
  {
   "cell_type": "code",
   "execution_count": 2,
   "metadata": {},
   "outputs": [],
   "source": [
    "from collections import deque\n",
    "\n",
    "def bfs(graph, start_node):\n",
    "    visited = list()\n",
    "    queue = deque()  # need_visit\n",
    "\n",
    "    queue.append(start_node)\n",
    "\n",
    "    while queue:\n",
    "        node = queue.pop(0)  # deque로 선언하여 popleft()\n",
    "        if node not in visited:\n",
    "            visited.append(node)\n",
    "            queue.extend(graph[node])\n",
    "\n",
    "    return visited\n"
   ]
  },
  {
   "cell_type": "markdown",
   "metadata": {},
   "source": [
    "### 방문한 노드 수 구하는 법"
   ]
  },
  {
   "cell_type": "code",
   "execution_count": 1,
   "metadata": {},
   "outputs": [],
   "source": [
    "from collections import deque\n",
    "\n",
    "def bfs(graph, start_node):\n",
    "    visited = list()\n",
    "    queue = deque()  # need_visit\n",
    "\n",
    "    queue.append(start_node)\n",
    "    count = 0\n",
    "    while queue:\n",
    "        count += 1\n",
    "        node = queue.pop(0)  # deque로 선언하여 popleft()\n",
    "        if node not in visited:\n",
    "            visited.append(node)\n",
    "            queue.extend(graph[node])\n",
    "\n",
    "    print(count)\n",
    "    return visited"
   ]
  }
 ],
 "metadata": {
  "kernelspec": {
   "display_name": "Python 3.8.6 64-bit",
   "language": "python",
   "name": "python3"
  },
  "language_info": {
   "codemirror_mode": {
    "name": "ipython",
    "version": 3
   },
   "file_extension": ".py",
   "mimetype": "text/x-python",
   "name": "python",
   "nbconvert_exporter": "python",
   "pygments_lexer": "ipython3",
   "version": "3.8.6"
  },
  "orig_nbformat": 4,
  "vscode": {
   "interpreter": {
    "hash": "7e84abd7a1fed67f39f83f7a680fc8372fe0725056b884b5f29bf687f5aaa65d"
   }
  }
 },
 "nbformat": 4,
 "nbformat_minor": 2
}
