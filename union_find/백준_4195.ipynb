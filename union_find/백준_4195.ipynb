{
 "cells": [
  {
   "cell_type": "code",
   "execution_count": null,
   "metadata": {},
   "outputs": [],
   "source": [
    "def find(x):\n",
    "    if x == parent[x]: # 해당 노드가 union 대표일경우\n",
    "        return x\n",
    "    else: # 연합 대표가 아닐경우\n",
    "        p = find(parent[x]) # 부모의 부모를 찾는다.\n",
    "        parent[x] = p # 부모의 부모를 본인으로 설정\n",
    "        return p\n",
    "\n",
    "\n",
    "def union(x, y): # union\n",
    "    x = find(x) \n",
    "    y = find(y)\n",
    "    if x != y: # 두개 부모가 다른 경우\n",
    "        parent[y] = x # 부모를 같게 한다.\n",
    "        number[x] += number[y] # x, y의 합집합(union 연합) 크기\n",
    "\n",
    "\n",
    "t = int(input())\n",
    "for _ in range(t):\n",
    "    parent, number = dict(), dict() # 부모 dict, 연합 dict\n",
    "    f = int(input())\n",
    "\n",
    "    for _ in range(f):\n",
    "        x, y = input().split()\n",
    "\n",
    "        if x not in parent: # 최초 입력 노드는 부모 설정\n",
    "            parent[x] = x\n",
    "            number[x] = 1\n",
    "        if y not in parent:\n",
    "            parent[y] = y\n",
    "            number[y] = 1\n",
    "            \n",
    "        union(x, y) # 두개 union 하여\n",
    "        print(number[find(x)]) # union 연합의 크기"
   ]
  }
 ],
 "metadata": {
  "kernelspec": {
   "display_name": "Python 3.8.6 64-bit",
   "language": "python",
   "name": "python3"
  },
  "language_info": {
   "name": "python",
   "version": "3.8.6"
  },
  "orig_nbformat": 4,
  "vscode": {
   "interpreter": {
    "hash": "7e84abd7a1fed67f39f83f7a680fc8372fe0725056b884b5f29bf687f5aaa65d"
   }
  }
 },
 "nbformat": 4,
 "nbformat_minor": 2
}
